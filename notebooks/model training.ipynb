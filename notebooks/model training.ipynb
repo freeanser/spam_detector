{
 "cells": [
  {
   "cell_type": "code",
   "execution_count": 2,
   "id": "88239817-079a-4bfd-abd6-23ee05ad19fd",
   "metadata": {},
   "outputs": [],
   "source": [
    "# model training.ipynb\n",
    "\n",
    "import pandas as pd\n",
    "from sklearn.feature_extraction.text import CountVectorizer\n",
    "from sklearn.model_selection import train_test_split\n",
    "from sklearn.naive_bayes import MultinomialNB\n",
    "from sklearn.metrics import classification_report\n",
    "# from sklearn.externals import joblib\n",
    "import joblib\n"
   ]
  },
  {
   "cell_type": "code",
   "execution_count": 4,
   "id": "97695f08-291b-4cf0-9ec2-e048c54a307c",
   "metadata": {},
   "outputs": [],
   "source": [
    "# 整理數據\n",
    "df = pd.read_csv('../spam.csv', encoding=\"latin-1\")\n",
    "df.rename(columns={'v2': 'message'}, inplace=True)\n",
    "df['label'] = df['v1'].map({'ham': 0, 'spam': 1})"
   ]
  },
  {
   "cell_type": "code",
   "execution_count": 5,
   "id": "a6d7a608",
   "metadata": {},
   "outputs": [],
   "source": [
    "# 構造訓練集和測試集\n",
    "# 使用 CountVectorizer 將文本數據轉換為詞袋模型\n",
    "X = df['message']\n",
    "y = df['label']\n",
    "cv = CountVectorizer()\n",
    "X = cv.fit_transform(X)\n",
    "X_train, X_test, y_train, y_test = train_test_split(X, y, test_size=0.33, random_state=42)"
   ]
  },
  {
   "cell_type": "code",
   "execution_count": 6,
   "id": "8f9a44db",
   "metadata": {},
   "outputs": [
    {
     "name": "stdout",
     "output_type": "stream",
     "text": [
      "              precision    recall  f1-score   support\n",
      "\n",
      "           0       0.99      0.99      0.99      1587\n",
      "           1       0.93      0.92      0.92       252\n",
      "\n",
      "    accuracy                           0.98      1839\n",
      "   macro avg       0.96      0.95      0.96      1839\n",
      "weighted avg       0.98      0.98      0.98      1839\n",
      "\n"
     ]
    }
   ],
   "source": [
    "# 朴素貝葉斯分類器中的MultinomialNB\n",
    "clf = MultinomialNB()\n",
    "clf.fit(X_train, y_train)\n",
    "\n",
    "# 評估模型性能\n",
    "clf.score(X_test, y_test)\n",
    "y_pred = clf.predict(X_test)\n",
    "\n",
    "# 打印分類報告\n",
    "print(classification_report(y_test, y_pred))"
   ]
  },
  {
   "cell_type": "code",
   "execution_count": 7,
   "id": "4cb3f997",
   "metadata": {},
   "outputs": [
    {
     "data": {
      "text/plain": [
       "['NB_spam_model.pkl']"
      ]
     },
     "execution_count": 7,
     "metadata": {},
     "output_type": "execute_result"
    }
   ],
   "source": [
    "# 模型持久化\n",
    "# 使用 joblib 保存訓練好的模型\n",
    "joblib.dump(clf, 'NB_spam_model.pkl')"
   ]
  },
  {
   "cell_type": "code",
   "execution_count": null,
   "id": "e6c8bce9",
   "metadata": {},
   "outputs": [],
   "source": []
  }
 ],
 "metadata": {
  "kernelspec": {
   "display_name": "Python 3 (ipykernel)",
   "language": "python",
   "name": "python3"
  },
  "language_info": {
   "codemirror_mode": {
    "name": "ipython",
    "version": 3
   },
   "file_extension": ".py",
   "mimetype": "text/x-python",
   "name": "python",
   "nbconvert_exporter": "python",
   "pygments_lexer": "ipython3",
   "version": "3.11.5"
  }
 },
 "nbformat": 4,
 "nbformat_minor": 5
}
